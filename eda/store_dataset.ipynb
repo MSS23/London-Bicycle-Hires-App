{
 "cells": [
  {
   "cell_type": "markdown",
   "id": "797e4e77",
   "metadata": {},
   "source": [
    "# Storing Dataset  \n",
    "\n",
    "This notebook focusses on connecting to the Public GCP dataset and then from there used to be able to save the snippet of data as a parquet file"
   ]
  },
  {
   "cell_type": "code",
   "execution_count": null,
   "id": "eab6a908",
   "metadata": {},
   "outputs": [],
   "source": [
    "#Install necessary libraries\n",
    "%pip install --upgrade google-cloud-bigquery pyarrow\n",
    "%pip install pandas numpy matplotlib seaborn\n",
    "%pip install db-dtypes\n",
    "%pip install time datetime\n",
    "%pip install scikit-learn\n",
    "%pip install google-cloud-bigquery-storage"
   ]
  },
  {
   "cell_type": "code",
   "execution_count": 2,
   "id": "fbd124e6",
   "metadata": {},
   "outputs": [
    {
     "name": "stdout",
     "output_type": "stream",
     "text": [
      "Tables in bigquery-public-data.london_bicycles:\n",
      " - cycle_hire\n",
      " - cycle_stations\n"
     ]
    }
   ],
   "source": [
    "import os\n",
    "import pandas as pd\n",
    "from google.cloud import bigquery\n",
    "\n",
    "# Set your GCP project and BigQuery location\n",
    "project = \"london-bike-hire-dataset-test\"\n",
    "location = \"EU\"\n",
    "\n",
    "# Set path to your credentials JSON file (local path)\n",
    "os.environ[\"GOOGLE_APPLICATION_CREDENTIALS\"] = r\"C:\\Users\\msidh\\Documents\\Coding\\London Bicycle Hires App\\credentials\\bq_viewer_key.json\"\n",
    "\n",
    "# Initialise BigQuery client\n",
    "client = bigquery.Client(project=project, location=location)\n",
    "\n",
    "#List all tables in the london_bicycles dataset\n",
    "#should return cycle_hire and cycle_stations\n",
    "\n",
    "dataset_ref = client.dataset(\"london_bicycles\", project=\"bigquery-public-data\")\n",
    "tables = client.list_tables(dataset_ref)\n",
    "\n",
    "print(\"Tables in bigquery-public-data.london_bicycles:\")\n",
    "for table in tables:\n",
    "    print(\" -\", table.table_id)\n"
   ]
  },
  {
   "cell_type": "code",
   "execution_count": 4,
   "id": "f79f9319",
   "metadata": {},
   "outputs": [
    {
     "name": "stdout",
     "output_type": "stream",
     "text": [
      "['rental_id', 'duration', 'duration_ms', 'bike_id', 'bike_model', 'end_date', 'end_station_id', 'end_station_name', 'start_date', 'start_station_id', 'start_station_name', 'end_station_logical_terminal', 'start_station_logical_terminal', 'end_station_priority_id']\n"
     ]
    }
   ],
   "source": [
    "cycle_df = client.query(\"SELECT * FROM `bigquery-public-data.london_bicycles.cycle_hire` LIMIT 1\").to_dataframe()\n",
    "\n",
    "# To display the column names:\n",
    "print(cycle_df.columns.tolist())"
   ]
  },
  {
   "cell_type": "code",
   "execution_count": null,
   "id": "08624211",
   "metadata": {},
   "outputs": [
    {
     "name": "stdout",
     "output_type": "stream",
     "text": [
      "✅ Trips saved to storage/Bronze/cycle_hire_2022.parquet\n",
      "✅ Stations saved to storage/Bronze/cycle_stations.parquet\n"
     ]
    }
   ],
   "source": [
    "from pathlib import Path\n",
    "from google.cloud import bigquery, bigquery_storage_v1\n",
    "import pandas as pd\n",
    "\n",
    "# Define the bronze storage path\n",
    "bronze_store = Path(\"storage/Bronze\")\n",
    "bronze_store.mkdir(parents=True, exist_ok=True)\n",
    "\n",
    "# Instantiate BigQuery clients\n",
    "client = bigquery.Client()\n",
    "bqstorage_client = bigquery_storage_v1.BigQueryReadClient()\n",
    "\n",
    "# ---- A. Fetch 2022 trips -----------------------------------------------------\n",
    "sql_trips_22 = \"\"\"\n",
    "SELECT *\n",
    "FROM  `bigquery-public-data.london_bicycles.cycle_hire`\n",
    "WHERE EXTRACT(YEAR FROM start_date) = 2022\n",
    "\"\"\"\n",
    "df_trips_22 = client.query(sql_trips_22).to_dataframe(bqstorage_client=bqstorage_client)\n",
    "df_trips_22.to_parquet(bronze_store / \"cycle_hire_2022.parquet\", compression=\"snappy\", index=False)\n",
    "print(\"Trips saved to storage/Bronze/cycle_hire_2022.parquet\")\n",
    "\n",
    "# ---- B. Fetch station reference ---------------------------------------------\n",
    "sql_stations = \"SELECT * FROM `bigquery-public-data.london_bicycles.cycle_stations`\"\n",
    "df_stations = client.query(sql_stations).to_dataframe(bqstorage_client=bqstorage_client)\n",
    "df_stations.to_parquet(bronze_store / \"cycle_stations.parquet\", compression=\"snappy\", index=False)\n",
    "print(\"Stations saved to storage/Bronze/cycle_stations.parquet\")\n"
   ]
  },
  {
   "cell_type": "code",
   "execution_count": null,
   "id": "125a1abb",
   "metadata": {},
   "outputs": [],
   "source": []
  }
 ],
 "metadata": {
  "kernelspec": {
   "display_name": ".venv",
   "language": "python",
   "name": "python3"
  },
  "language_info": {
   "codemirror_mode": {
    "name": "ipython",
    "version": 3
   },
   "file_extension": ".py",
   "mimetype": "text/x-python",
   "name": "python",
   "nbconvert_exporter": "python",
   "pygments_lexer": "ipython3",
   "version": "3.12.11"
  }
 },
 "nbformat": 4,
 "nbformat_minor": 5
}
